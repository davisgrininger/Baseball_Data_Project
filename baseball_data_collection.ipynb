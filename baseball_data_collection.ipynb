{
 "cells": [
  {
   "cell_type": "code",
   "execution_count": 388,
   "metadata": {},
   "outputs": [],
   "source": [
    "import pandas as pd\n",
    "import matplotlib.pyplot as plt\n",
    "import time\n",
    "from splinter import Browser\n"
   ]
  },
  {
   "cell_type": "code",
   "execution_count": null,
   "metadata": {},
   "outputs": [],
   "source": []
  },
  {
   "cell_type": "code",
   "execution_count": null,
   "metadata": {},
   "outputs": [],
   "source": []
  },
  {
   "cell_type": "code",
   "execution_count": 389,
   "metadata": {},
   "outputs": [
    {
     "data": {
      "text/plain": [
       "[('Springer', 'George'),\n",
       " ('Trout', 'Mike'),\n",
       " ('Pillar', 'Kevin'),\n",
       " ('Cain', 'Lorenzo'),\n",
       " ('Hicks', 'Aaron'),\n",
       " ('Buxton', 'Byron'),\n",
       " ('Lagares', 'Juan'),\n",
       " ('Kingery', 'Scott'),\n",
       " ('Marte', 'Starling')]"
      ]
     },
     "execution_count": 389,
     "metadata": {},
     "output_type": "execute_result"
    }
   ],
   "source": [
    "#{\"First Name\": \"\", \"Last Name\":\"\"}, this is easier for now but doesnt work for players with same name as former players\n",
    "#center fielders for this example\n",
    "player_list = [{\"First Name\": \"George\", \"Last Name\":\"Springer\"},\n",
    "               {\"First Name\": \"Mike\", \"Last Name\":\"Trout\"},\n",
    "                {\"First Name\": \"Kevin\", \"Last Name\":\"Pillar\"},\n",
    "                  {\"First Name\": \"Lorenzo\", \"Last Name\":\"Cain\"},\n",
    "                  {\"First Name\": \"Aaron\", \"Last Name\":\"Hicks\"},\n",
    "                  {\"First Name\": \"Byron\", \"Last Name\":\"Buxton\"},\n",
    "                  {\"First Name\": \"Juan\", \"Last Name\":\"Lagares\"},{\"First Name\": \"Scott\", \"Last Name\":\"Kingery\"},\n",
    "                  {\"First Name\": \"Starling\", \"Last Name\":\"Marte\"}]\n",
    "\n",
    "player_df = pd.DataFrame(player_list)\n",
    "\n",
    "url_list = []\n",
    "\n",
    "final_player_list = []\n",
    "\n",
    "for i, player in player_df.iterrows():\n",
    "    first_name = player[\"First Name\"]\n",
    "    last_name = player[\"Last Name\"]\n",
    "    name = player[\"Last Name\"], player[\"First Name\"]\n",
    "    final_player_list.append(name)\n",
    "    url_first_name = first_name[0:2].lower()\n",
    "    url_last_name = last_name[0:5].lower()\n",
    "    url_first_letter = last_name[0].lower()\n",
    "    \n",
    "    url = 'https://www.baseball-reference.com/players/' + url_first_letter + '/' + url_last_name + url_first_name + '01.shtml'\n",
    "    url_list.append(url)\n",
    "\n",
    "final_player_list\n"
   ]
  },
  {
   "cell_type": "code",
   "execution_count": 390,
   "metadata": {
    "scrolled": true
   },
   "outputs": [
    {
     "name": "stdout",
     "output_type": "stream",
     "text": [
      "    WAR       Year       Salary\n",
      "1   3.9       2015     $512,900\n",
      "2   5.1       2016     $522,400\n",
      "3   4.7       2017   $3,900,000\n",
      "4   2.7       2018  $12,000,000\n",
      "5   4.2       2019  $12,000,000\n",
      "6  22.7  6 Seasons  $28,935,300\n",
      "    WAR       Year        Salary\n",
      "1  10.5       2012      $492,500\n",
      "2   9.0       2013      $510,000\n",
      "3   7.6       2014    $1,000,000\n",
      "4   9.4       2015    $6,083,000\n",
      "5  10.5       2016   $16,083,000\n",
      "6   6.6       2017   $20,083,000\n",
      "7  10.2       2018   $34,083,000\n",
      "8   8.2       2019   $36,833,333\n",
      "9  72.4  9 Seasons  $115,167,833\n",
      "     WAR         Year       Salary\n",
      "2    4.9         2015     $512,000\n",
      "3    3.5         2016     $521,100\n",
      "4    3.0         2017     $555,000\n",
      "5    2.5         2018   $3,250,000\n",
      "7   -0.4         2019   $5,800,000\n",
      "9    1.6         2019   $5,800,000\n",
      "10  15.9    7 Seasons  $10,638,100\n",
      "12  14.3  TOR (7 yrs)   $4,838,100\n",
      "13   1.6   SFG (1 yr)   $5,800,000\n",
      "     WAR         Year       Salary\n",
      "2    1.7         2012     $480,850\n",
      "3    3.1         2013     $503,175\n",
      "4    4.9         2014     $546,000\n",
      "5    7.2         2015   $2,725,000\n",
      "6    3.0         2016   $6,500,000\n",
      "7    5.4         2017  $11,000,000\n",
      "8    6.9         2018  $14,000,000\n",
      "9    1.9         2019  $15,000,000\n",
      "10  35.9   10 Seasons  $50,755,025\n",
      "12  25.1  KCR (7 yrs)  $21,755,025\n",
      "13  10.8  MIL (3 yrs)  $29,000,000\n",
      "     WAR         Year       Salary\n",
      "0    0.6         2013     $490,000\n",
      "1    0.2         2014     $507,500\n",
      "3   -0.3         2016     $574,000\n",
      "4    3.9         2017   $1,350,000\n",
      "5    4.7         2018   $2,825,000\n",
      "6    1.3         2019   $6,285,714\n",
      "7   11.9    7 Seasons  $12,032,214\n",
      "9    9.6  NYY (4 yrs)  $11,034,714\n",
      "10   2.3  MIN (3 yrs)     $997,500\n",
      "   WAR       Year      Salary\n",
      "1  1.8       2016    $512,500\n",
      "2  5.1       2017    $535,000\n",
      "3 -0.3       2018    $580,000\n",
      "4  3.1       2019  $1,750,000\n",
      "5  9.9  5 Seasons  $3,377,500\n",
      "    WAR       Year       Salary\n",
      "1   5.3       2014     $506,636\n",
      "2   0.5       2015     $528,696\n",
      "3   0.8       2016   $2,500,000\n",
      "4   1.9       2017   $4,500,000\n",
      "5   1.0       2018   $6,500,000\n",
      "6  -1.2       2019   $9,000,000\n",
      "7  11.8  7 Seasons  $23,535,332\n",
      "   WAR       Year      Salary\n",
      "0 -1.3       2018  $1,000,000\n",
      "1  1.6       2019  $1,500,000\n",
      "2  0.2  2 Seasons  $2,500,000\n",
      "    WAR       Year       Salary\n",
      "1   5.2       2013     $500,000\n",
      "2   4.7       2014     $500,000\n",
      "3   5.3       2015   $1,333,333\n",
      "4   4.9       2016   $3,333,333\n",
      "5   1.5       2017   $5,333,333\n",
      "6   3.7       2018   $7,833,333\n",
      "7   2.2       2019  $10,333,334\n",
      "8  28.4  8 Seasons  $29,166,666\n"
     ]
    }
   ],
   "source": [
    "clean_stats_list = []\n",
    "\n",
    "executable_path = {'executable_path': '/usr/local/bin/chromedriver'}\n",
    "browser = Browser('chrome', **executable_path, headless=False)\n",
    "\n",
    "for url in url_list:\n",
    "    \n",
    "    browser.visit(url)\n",
    "    time.sleep(1)\n",
    "    html = browser.html\n",
    "    tables = pd.read_html(html)\n",
    "    \n",
    "    Salary_matches = []\n",
    "    WAR_matches = []\n",
    "    ##### add HR and BAA then append to the clean stats table by year\n",
    "    \n",
    "    for table in tables:\n",
    "        if 'Salary' in table.columns:\n",
    "            Salary_matches.append(table)\n",
    "            \n",
    "    sal_df = Salary_matches[0]\n",
    "    sal_df = sal_df[[\"Salary\", \"Year\"]]\n",
    "    \n",
    "    for table in tables:\n",
    "        if 'WAR' in table.columns:\n",
    "            WAR_matches.append(table)\n",
    "            \n",
    "    WAR_df = WAR_matches[0]\n",
    "    war_df = pd.DataFrame(WAR_df)\n",
    "    war_df = war_df[[\"WAR\", \"Year\"]]\n",
    "    \n",
    "    \n",
    "    \n",
    "    \n",
    "    ##########\n",
    "    merged_df = pd.merge(war_df, sal_df, on = \"Year\")\n",
    "    merged_df = merged_df.dropna()\n",
    "    merged_df\n",
    "    clean_stats_list.append(merged_df)\n",
    "    print(merged_df)\n",
    "\n",
    "\n"
   ]
  },
  {
   "cell_type": "code",
   "execution_count": 426,
   "metadata": {
    "scrolled": true
   },
   "outputs": [
    {
     "data": {
      "text/html": [
       "<div>\n",
       "<style scoped>\n",
       "    .dataframe tbody tr th:only-of-type {\n",
       "        vertical-align: middle;\n",
       "    }\n",
       "\n",
       "    .dataframe tbody tr th {\n",
       "        vertical-align: top;\n",
       "    }\n",
       "\n",
       "    .dataframe thead th {\n",
       "        text-align: right;\n",
       "    }\n",
       "</style>\n",
       "<table border=\"1\" class=\"dataframe\">\n",
       "  <thead>\n",
       "    <tr style=\"text-align: right;\">\n",
       "      <th></th>\n",
       "      <th>Year</th>\n",
       "      <th>Salary</th>\n",
       "      <th>WAR</th>\n",
       "    </tr>\n",
       "  </thead>\n",
       "  <tbody>\n",
       "    <tr>\n",
       "      <th>0</th>\n",
       "      <td>2015</td>\n",
       "      <td>$512,900</td>\n",
       "      <td>3.9</td>\n",
       "    </tr>\n",
       "    <tr>\n",
       "      <th>1</th>\n",
       "      <td>2016</td>\n",
       "      <td>$522,400</td>\n",
       "      <td>5.1</td>\n",
       "    </tr>\n",
       "    <tr>\n",
       "      <th>2</th>\n",
       "      <td>2017</td>\n",
       "      <td>$3,900,000</td>\n",
       "      <td>4.7</td>\n",
       "    </tr>\n",
       "    <tr>\n",
       "      <th>3</th>\n",
       "      <td>2018</td>\n",
       "      <td>$12,000,000</td>\n",
       "      <td>2.7</td>\n",
       "    </tr>\n",
       "    <tr>\n",
       "      <th>4</th>\n",
       "      <td>2019</td>\n",
       "      <td>$12,000,000</td>\n",
       "      <td>4.2</td>\n",
       "    </tr>\n",
       "    <tr>\n",
       "      <th>5</th>\n",
       "      <td>6 Seasons</td>\n",
       "      <td>$28,935,300</td>\n",
       "      <td>22.7</td>\n",
       "    </tr>\n",
       "  </tbody>\n",
       "</table>\n",
       "</div>"
      ],
      "text/plain": [
       "        Year       Salary   WAR\n",
       "0       2015     $512,900   3.9\n",
       "1       2016     $522,400   5.1\n",
       "2       2017   $3,900,000   4.7\n",
       "3       2018  $12,000,000   2.7\n",
       "4       2019  $12,000,000   4.2\n",
       "5  6 Seasons  $28,935,300  22.7"
      ]
     },
     "execution_count": 426,
     "metadata": {},
     "output_type": "execute_result"
    }
   ],
   "source": [
    "Better_list = []\n",
    "for x in clean_stats_list:\n",
    "    grouped = x.groupby([\"Year\", \"Salary\"])\n",
    "    grouped_sum = grouped.sum()\n",
    "    #grouped_sum = pd.DataFrame(grouped_sum)\n",
    "    grouped_sum = grouped_sum.reset_index()\n",
    "    Better_list.append(grouped_sum)\n",
    "    \n",
    "    \n",
    "\n",
    "Better_list[0]"
   ]
  },
  {
   "cell_type": "code",
   "execution_count": 427,
   "metadata": {},
   "outputs": [],
   "source": [
    "#### salary needs to drop the $ and .isnumeric() so I can graph it\n",
    "#Better_list[0][\"Salary\"][0].replace(\"$\", \"\").replace(',','')     pd.tonumeric\n",
    "squeaky_clean_dfs = []\n",
    "for i in Better_list:\n",
    "    new_df = i\n",
    "    new_df[\"Salary\"] = new_df[\"Salary\"].replace('[\\$,]', '', regex=True).astype(float)\n",
    "    squeaky_clean_dfs.append(new_df)\n",
    "            \n",
    "            \n",
    "\n",
    "Better_list = squeaky_clean_dfs"
   ]
  },
  {
   "cell_type": "code",
   "execution_count": 428,
   "metadata": {},
   "outputs": [
    {
     "data": {
      "text/plain": [
       "[   Year      Salary  WAR\n",
       " 0  2015    512900.0  3.9\n",
       " 1  2016    522400.0  5.1\n",
       " 2  2017   3900000.0  4.7\n",
       " 3  2018  12000000.0  2.7\n",
       " 4  2019  12000000.0  4.2,    Year      Salary   WAR\n",
       " 0  2012    492500.0  10.5\n",
       " 1  2013    510000.0   9.0\n",
       " 2  2014   1000000.0   7.6\n",
       " 3  2015   6083000.0   9.4\n",
       " 4  2016  16083000.0  10.5\n",
       " 5  2017  20083000.0   6.6\n",
       " 6  2018  34083000.0  10.2\n",
       " 7  2019  36833333.0   8.2,    Year     Salary  WAR\n",
       " 0  2015   512000.0  4.9\n",
       " 1  2016   521100.0  3.5\n",
       " 2  2017   555000.0  3.0\n",
       " 3  2018  3250000.0  2.5\n",
       " 4  2019  5800000.0  1.2,    Year      Salary  WAR\n",
       " 1  2012    480850.0  1.7\n",
       " 2  2013    503175.0  3.1\n",
       " 3  2014    546000.0  4.9\n",
       " 4  2015   2725000.0  7.2\n",
       " 5  2016   6500000.0  3.0\n",
       " 6  2017  11000000.0  5.4\n",
       " 7  2018  14000000.0  6.9\n",
       " 8  2019  15000000.0  1.9,    Year     Salary  WAR\n",
       " 0  2013   490000.0  0.6\n",
       " 1  2014   507500.0  0.2\n",
       " 2  2016   574000.0 -0.3\n",
       " 3  2017  1350000.0  3.9\n",
       " 4  2018  2825000.0  4.7\n",
       " 5  2019  6285714.0  1.3,    Year     Salary  WAR\n",
       " 0  2016   512500.0  1.8\n",
       " 1  2017   535000.0  5.1\n",
       " 2  2018   580000.0 -0.3\n",
       " 3  2019  1750000.0  3.1,    Year     Salary  WAR\n",
       " 0  2014   506636.0  5.3\n",
       " 1  2015   528696.0  0.5\n",
       " 2  2016  2500000.0  0.8\n",
       " 3  2017  4500000.0  1.9\n",
       " 4  2018  6500000.0  1.0\n",
       " 5  2019  9000000.0 -1.2,    Year     Salary  WAR\n",
       " 1  2018  1000000.0 -1.3\n",
       " 2  2019  1500000.0  1.6,    Year      Salary  WAR\n",
       " 0  2013    500000.0  5.2\n",
       " 1  2014    500000.0  4.7\n",
       " 2  2015   1333333.0  5.3\n",
       " 3  2016   3333333.0  4.9\n",
       " 4  2017   5333333.0  1.5\n",
       " 5  2018   7833333.0  3.7\n",
       " 6  2019  10333334.0  2.2]"
      ]
     },
     "execution_count": 428,
     "metadata": {},
     "output_type": "execute_result"
    }
   ],
   "source": [
    "final_list_of_dfs = []\n",
    "\n",
    "\n",
    "for testing in Better_list:\n",
    "    df = testing[testing['Year'].str.contains('^[12][0-9]{3}$')]\n",
    "    final_list_of_dfs.append(df)\n",
    "\n",
    "\n",
    "\n",
    "final_list_of_dfs\n"
   ]
  },
  {
   "cell_type": "code",
   "execution_count": 429,
   "metadata": {},
   "outputs": [
    {
     "data": {
      "text/plain": [
       "{('Springer', 'George'):    Year      Salary  WAR\n",
       " 0  2015    512900.0  3.9\n",
       " 1  2016    522400.0  5.1\n",
       " 2  2017   3900000.0  4.7\n",
       " 3  2018  12000000.0  2.7\n",
       " 4  2019  12000000.0  4.2, ('Trout', 'Mike'):    Year      Salary   WAR\n",
       " 0  2012    492500.0  10.5\n",
       " 1  2013    510000.0   9.0\n",
       " 2  2014   1000000.0   7.6\n",
       " 3  2015   6083000.0   9.4\n",
       " 4  2016  16083000.0  10.5\n",
       " 5  2017  20083000.0   6.6\n",
       " 6  2018  34083000.0  10.2\n",
       " 7  2019  36833333.0   8.2, ('Pillar', 'Kevin'):    Year     Salary  WAR\n",
       " 0  2015   512000.0  4.9\n",
       " 1  2016   521100.0  3.5\n",
       " 2  2017   555000.0  3.0\n",
       " 3  2018  3250000.0  2.5\n",
       " 4  2019  5800000.0  1.2, ('Cain', 'Lorenzo'):    Year      Salary  WAR\n",
       " 1  2012    480850.0  1.7\n",
       " 2  2013    503175.0  3.1\n",
       " 3  2014    546000.0  4.9\n",
       " 4  2015   2725000.0  7.2\n",
       " 5  2016   6500000.0  3.0\n",
       " 6  2017  11000000.0  5.4\n",
       " 7  2018  14000000.0  6.9\n",
       " 8  2019  15000000.0  1.9, ('Hicks', 'Aaron'):    Year     Salary  WAR\n",
       " 0  2013   490000.0  0.6\n",
       " 1  2014   507500.0  0.2\n",
       " 2  2016   574000.0 -0.3\n",
       " 3  2017  1350000.0  3.9\n",
       " 4  2018  2825000.0  4.7\n",
       " 5  2019  6285714.0  1.3, ('Buxton', 'Byron'):    Year     Salary  WAR\n",
       " 0  2016   512500.0  1.8\n",
       " 1  2017   535000.0  5.1\n",
       " 2  2018   580000.0 -0.3\n",
       " 3  2019  1750000.0  3.1, ('Lagares', 'Juan'):    Year     Salary  WAR\n",
       " 0  2014   506636.0  5.3\n",
       " 1  2015   528696.0  0.5\n",
       " 2  2016  2500000.0  0.8\n",
       " 3  2017  4500000.0  1.9\n",
       " 4  2018  6500000.0  1.0\n",
       " 5  2019  9000000.0 -1.2, ('Kingery', 'Scott'):    Year     Salary  WAR\n",
       " 1  2018  1000000.0 -1.3\n",
       " 2  2019  1500000.0  1.6, ('Marte', 'Starling'):    Year      Salary  WAR\n",
       " 0  2013    500000.0  5.2\n",
       " 1  2014    500000.0  4.7\n",
       " 2  2015   1333333.0  5.3\n",
       " 3  2016   3333333.0  4.9\n",
       " 4  2017   5333333.0  1.5\n",
       " 5  2018   7833333.0  3.7\n",
       " 6  2019  10333334.0  2.2}"
      ]
     },
     "execution_count": 429,
     "metadata": {},
     "output_type": "execute_result"
    }
   ],
   "source": [
    "dict_of_player_stats = dict(zip(final_player_list,final_list_of_dfs)) \n",
    "dict_of_player_stats"
   ]
  },
  {
   "cell_type": "code",
   "execution_count": 430,
   "metadata": {},
   "outputs": [
    {
     "data": {
      "text/plain": [
       "<matplotlib.collections.PathCollection at 0x120910518>"
      ]
     },
     "execution_count": 430,
     "metadata": {},
     "output_type": "execute_result"
    },
    {
     "data": {
      "image/png": "[encoded data removed]",
      "text/plain": [
       "<Figure size 432x288 with 1 Axes>"
      ]
     },
     "metadata": {
      "needs_background": "light"
     },
     "output_type": "display_data"
    }
   ],
   "source": [
    "plt.scatter(final_list_of_dfs[0][\"WAR\"], final_list_of_dfs[0]['Salary'])"
   ]
  },
  {
   "cell_type": "code",
   "execution_count": 431,
   "metadata": {},
   "outputs": [
    {
     "data": {
      "image/png": "[encoded data removed]",
      "text/plain": [
       "<Figure size 432x288 with 1 Axes>"
      ]
     },
     "metadata": {
      "needs_background": "light"
     },
     "output_type": "display_data"
    }
   ],
   "source": [
    "for i in final_list_of_dfs:\n",
    "    plt.scatter(i[\"WAR\"], i['Salary'])"
   ]
  },
  {
   "cell_type": "code",
   "execution_count": null,
   "metadata": {},
   "outputs": [],
   "source": []
  }
 ],
 "metadata": {
  "kernelspec": {
   "display_name": "Python 3",
   "language": "python",
   "name": "python3"
  },
  "language_info": {
   "codemirror_mode": {
    "name": "ipython",
    "version": 3
   },
   "file_extension": ".py",
   "mimetype": "text/x-python",
   "name": "python",
   "nbconvert_exporter": "python",
   "pygments_lexer": "ipython3",
   "version": "3.7.3"
  }
 },
 "nbformat": 4,
 "nbformat_minor": 2
}
